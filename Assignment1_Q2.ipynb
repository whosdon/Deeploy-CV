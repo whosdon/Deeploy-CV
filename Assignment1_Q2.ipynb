{
 "cells": [
  {
   "cell_type": "code",
   "id": "initial_id",
   "metadata": {
    "collapsed": true
   },
   "source": [
    "import cv2\n",
    "import numpy as np\n",
    "import matplotlib.pyplot as plt"
   ],
   "outputs": [],
   "execution_count": null
  },
  {
   "metadata": {},
   "cell_type": "code",
   "source": [
    "def capture_image(camera_index=0):\n",
    "    cap = cv2.VideoCapture(camera_index)\n",
    "    ret, frame = cap.read()\n",
    "    cap.release()\n",
    "    return frame"
   ],
   "id": "a0ff6e7894d4c859",
   "outputs": [],
   "execution_count": null
  },
  {
   "metadata": {},
   "cell_type": "code",
   "source": [
    "def greyscale(image):\n",
    "    return cv2.cvtColor(image, cv2.COLOR_BGR2GRAY)"
   ],
   "id": "9bc978ad5fe9924e",
   "outputs": [],
   "execution_count": null
  },
  {
   "metadata": {},
   "cell_type": "code",
   "source": [
    "def binary_threshold(image):\n",
    "    grey = greyscale(image)\n",
    "    _, binary = cv2.threshold(grey, 127, 255, cv2.THRESH_BINARY)\n",
    "    return binary"
   ],
   "id": "49dc9f94b558ccef",
   "outputs": [],
   "execution_count": null
  },
  {
   "metadata": {},
   "cell_type": "code",
   "source": [
    "def grey_16_levels(image):\n",
    "    grey = greyscale(image)\n",
    "    grey_16 = np.uint8(grey / 16) * 16\n",
    "    return grey_16"
   ],
   "id": "83eb75951a6a0a68",
   "outputs": [],
   "execution_count": null
  },
  {
   "metadata": {},
   "cell_type": "code",
   "source": [
    "def sobel_filter(image):\n",
    "    grey = greyscale(image)\n",
    "    sobelx = cv2.Sobel(grey, cv2.CV_64F, 1, 0, ksize=3)\n",
    "    sobely = cv2.Sobel(grey, cv2.CV_64F, 0, 1, ksize=3)\n",
    "    sobel_combined = cv2.magnitude(sobelx, sobely)\n",
    "    return np.uint8(sobel_combined)"
   ],
   "id": "7b3e609424bc6e0e",
   "outputs": [],
   "execution_count": null
  },
  {
   "metadata": {},
   "cell_type": "code",
   "source": [
    "def canny_edge_detector(image):\n",
    "    grey = greyscale(image)\n",
    "    return cv2.Canny(grey, 50, 150)"
   ],
   "id": "aaa32afe9d9450a7",
   "outputs": [],
   "execution_count": null
  },
  {
   "metadata": {},
   "cell_type": "code",
   "source": [
    "def gaussian_blur(image):\n",
    "    return cv2.GaussianBlur(image, (5, 5), 0)"
   ],
   "id": "c6afc5106d0d2b0e",
   "outputs": [],
   "execution_count": null
  },
  {
   "metadata": {},
   "cell_type": "code",
   "source": [
    "def sharpen_image(image):\n",
    "    kernel = np.array([[0, -1, 0],\n",
    "                       [-1, 5, -1],\n",
    "                       [0, -1, 0]])\n",
    "    return cv2.filter2D(image, -1, kernel)"
   ],
   "id": "b654ddc2f925cbf4",
   "outputs": [],
   "execution_count": null
  },
  {
   "metadata": {},
   "cell_type": "code",
   "source": [
    "def rgb_to_bgr(image):\n",
    "    return cv2.cvtColor(image, cv2.COLOR_RGB2BGR)"
   ],
   "id": "aa776a44c83d33a0",
   "outputs": [],
   "execution_count": null
  },
  {
   "metadata": {},
   "cell_type": "code",
   "source": [
    "def show(image, n, m, i, Title):\n",
    "    plt.subplot(n, m, i)\n",
    "    plt.imshow(image, cmap='gray')\n",
    "    plt.title(Title)\n",
    "    plt.axis('off')"
   ],
   "id": "5ca1f5d2bc9e896e",
   "outputs": [],
   "execution_count": null
  },
  {
   "metadata": {},
   "cell_type": "code",
   "source": [
    "if __name__ == \"__main__\":\n",
    "    image = capture_image(0)\n",
    "    if image is None:\n",
    "        print(\"Failed to capture image.\")\n",
    "        exit()\n",
    "\n",
    "    rgb_to_bgr(image)\n",
    "\n",
    "    grey_image = greyscale(image)\n",
    "    binary_image = binary_threshold(image)\n",
    "    grey_16_image = grey_16_levels(image)\n",
    "    sobel_image = sobel_filter(image)\n",
    "    canny_image = canny_edge_detector(image)\n",
    "    blurred_image = gaussian_blur(image)\n",
    "    sharpened_image = sharpen_image(blurred_image)\n",
    "\n",
    "    plt.figure(figsize=(12, 6))\n",
    "    show(image, 2, 4, 1, \"Original\")\n",
    "    show(grey_image, 2, 4, 2, \"Greyscale\")\n",
    "    show(binary_image, 2, 4, 3, \"Binary\")\n",
    "    show(grey_16_image, 2, 4, 4, \"16 Grey Levels\")\n",
    "    show(sobel_image, 2, 4, 5, \"Sobel\")\n",
    "    show(canny_image, 2, 4, 6, \"Canny\")\n",
    "    show(blurred_image, 2, 4, 7, \"Gaussian Blur\")\n",
    "    show(sharpened_image, 2, 4, 8, \"Sharpened\")\n",
    "\n",
    "    plt.tight_layout()\n",
    "    plt.show()"
   ],
   "id": "636c6e34115cc0fc",
   "outputs": [],
   "execution_count": null
  }
 ],
 "metadata": {
  "kernelspec": {
   "display_name": "Python 3",
   "language": "python",
   "name": "python3"
  },
  "language_info": {
   "codemirror_mode": {
    "name": "ipython",
    "version": 2
   },
   "file_extension": ".py",
   "mimetype": "text/x-python",
   "name": "python",
   "nbconvert_exporter": "python",
   "pygments_lexer": "ipython2",
   "version": "2.7.6"
  }
 },
 "nbformat": 4,
 "nbformat_minor": 5
}
