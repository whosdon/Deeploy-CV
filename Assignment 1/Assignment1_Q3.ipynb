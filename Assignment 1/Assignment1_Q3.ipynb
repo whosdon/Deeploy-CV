{
 "cells": [
  {
   "cell_type": "code",
   "execution_count": 2,
   "id": "c92047e8f939e9c7",
   "metadata": {},
   "outputs": [],
   "source": [
    "import cv2\n",
    "import numpy as np\n",
    "import matplotlib.pyplot as plt"
   ]
  },
  {
   "cell_type": "code",
   "execution_count": null,
   "id": "8cd2496963cfe852",
   "metadata": {},
   "outputs": [],
   "source": [
    "def apply_high_pass_filter(image):\n",
    "    kernel = np.array([[-1, -1, -1],\n",
    "                       [-1,  8, -1],\n",
    "                       [-1, -1, -1]])\n",
    "    high_pass = cv2.filter2D(image, -1, kernel)\n",
    "    return high_pass"
   ]
  },
  {
   "cell_type": "code",
   "execution_count": null,
   "id": "d59f42cca554d8e0",
   "metadata": {},
   "outputs": [],
   "source": [
    "def apply_low_pass_filter(image):\n",
    "    low_pass = cv2.GaussianBlur(image, (15, 15), 0)\n",
    "    return low_pass"
   ]
  },
  {
   "cell_type": "code",
   "execution_count": null,
   "id": "13551e32baf588b1",
   "metadata": {},
   "outputs": [],
   "source": [
    "def combine_images(image1, image2, alpha=0.5):\n",
    "    combined = cv2.addWeighted(image1, alpha, image2, 1 - alpha, 0)\n",
    "    return combined"
   ]
  },
  {
   "cell_type": "code",
   "execution_count": null,
   "id": "f76954981b156e82",
   "metadata": {},
   "outputs": [],
   "source": [
    "def show(image, n, m, i, title):\n",
    "    plt.subplot(n, m, i)\n",
    "    if len(image.shape) == 2:\n",
    "        plt.imshow(image, cmap='gray')\n",
    "    else:\n",
    "        plt.imshow(cv2.cvtColor(image, cv2.COLOR_BGR2RGB))\n",
    "    plt.title(title)\n",
    "    plt.axis('off')"
   ]
  },
  {
   "cell_type": "code",
   "execution_count": null,
   "id": "bd318d270446f0e5",
   "metadata": {},
   "outputs": [],
   "source": [
    "if __name__ == \"__main__\":\n",
    "    image1 = cv2.imread('image1.jpg')\n",
    "    image2 = cv2.imread('image2.jpg')\n",
    "\n",
    "    image1 = cv2.resize(image1, (400, 400))\n",
    "    image2 = cv2.resize(image2, (400, 400))\n",
    "\n",
    "    high_pass_image = apply_high_pass_filter(image1)\n",
    "    low_pass_image = apply_low_pass_filter(image2)\n",
    "\n",
    "    combined_image = combine_images(high_pass_image, low_pass_image)\n",
    "\n",
    "    plt.figure(figsize=(12, 8))\n",
    "    show(image1, 2, 3, 1, \"Original Image 1\")\n",
    "    show(high_pass_image, 2, 3, 2, \"High-Pass Filtered\")\n",
    "    show(image2, 2, 3, 3, \"Original Image 2\")\n",
    "    show(low_pass_image, 2, 3, 4, \"Low-Pass Filtered\")\n",
    "    show(combined_image, 2, 3, 5, \"Combined Image\")\n",
    "    plt.tight_layout()\n",
    "    plt.show()"
   ]
  }
 ],
 "metadata": {
  "kernelspec": {
   "display_name": "Python 3",
   "language": "python",
   "name": "python3"
  },
  "language_info": {
   "codemirror_mode": {
    "name": "ipython",
    "version": 3
   },
   "file_extension": ".py",
   "mimetype": "text/x-python",
   "name": "python",
   "nbconvert_exporter": "python",
   "pygments_lexer": "ipython3",
   "version": "3.12.3"
  }
 },
 "nbformat": 5,
 "nbformat_minor": 9
}
