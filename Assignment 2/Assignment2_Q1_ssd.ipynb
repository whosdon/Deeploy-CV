{
 "cells": [
  {
   "cell_type": "code",
   "execution_count": 1,
   "metadata": {},
   "outputs": [],
   "source": [
    "import torch\n",
    "import cv2\n",
    "from torchvision.models.detection import ssd300_vgg16\n",
    "from torchvision.transforms import functional as F"
   ]
  },
  {
   "cell_type": "code",
   "execution_count": null,
   "metadata": {},
   "outputs": [],
   "source": [
    "num_classes = 21  # 20 classes + background\n",
    "device = torch.device(\"cuda\" if torch.cuda.is_available() else \"cpu\")\n",
    "model = ssd300_vgg16(pretrained=True)  # Load pre-trained model\n",
    "model.to(device)\n",
    "model.eval()"
   ]
  },
  {
   "cell_type": "code",
   "execution_count": 3,
   "metadata": {},
   "outputs": [],
   "source": [
    "def detect_objects(frame, model, device, threshold=0.5):\n",
    "    # Convert frame to RGB (OpenCV uses BGR by default)\n",
    "    frame_rgb = cv2.cvtColor(frame, cv2.COLOR_BGR2RGB)\n",
    "\n",
    "    # Convert to a PyTorch tensor\n",
    "    frame_tensor = F.to_tensor(frame_rgb).unsqueeze(0).to(device)  # Shape (1, 3, H, W)\n",
    "\n",
    "    # Put the model in evaluation mode and perform inference\n",
    "    with torch.no_grad():  # Disable gradient calculation\n",
    "        prediction = model(frame_tensor)\n",
    "\n",
    "    # Get the predictions (boxes, labels, and scores)\n",
    "    boxes = prediction[0]['boxes']\n",
    "    labels = prediction[0]['labels']\n",
    "    scores = prediction[0]['scores']\n",
    "\n",
    "    # Apply a threshold to the scores\n",
    "    mask = scores > threshold\n",
    "    boxes = boxes[mask]\n",
    "    labels = labels[mask]\n",
    "    scores = scores[mask]\n",
    "\n",
    "    # Draw bounding boxes and labels on the frame\n",
    "    for i in range(len(boxes)):\n",
    "        xmin, ymin, xmax, ymax = boxes[i].cpu().numpy()\n",
    "        xmin, ymin, xmax, ymax = int(xmin), int(ymin), int(xmax), int(ymax)\n",
    "        score = scores[i].item()\n",
    "\n",
    "        # Draw bounding box\n",
    "        cv2.rectangle(frame, (xmin, ymin), (xmax, ymax), (0, 255, 0), 2)\n",
    "\n",
    "        # Put label and score\n",
    "        label = f'{score:.2f}'\n",
    "        cv2.putText(frame, label, (xmin, ymin - 10), cv2.FONT_HERSHEY_SIMPLEX, 0.6, (0, 255, 0), 2)\n",
    "\n",
    "    return frame"
   ]
  },
  {
   "cell_type": "code",
   "execution_count": null,
   "metadata": {},
   "outputs": [],
   "source": [
    "import cv2\n",
    "\n",
    "# Set the path to your video\n",
    "video_path = \"sample_video.mp4\" \n",
    "cap = cv2.VideoCapture(video_path)\n",
    "\n",
    "# Check if the video file was opened successfully\n",
    "if not cap.isOpened():\n",
    "    print(\"Error: Unable to open video file.\")\n",
    "    exit()\n",
    "\n",
    "while True:\n",
    "    ret, frame = cap.read()\n",
    "    if not ret:\n",
    "        print(\"Error: Cannot read frame.\")\n",
    "        break\n",
    "\n",
    "    # Detect objects in the frame\n",
    "    output_frame = detect_objects(frame, model, device, threshold=0.5)\n",
    "\n",
    "    # Display the frame with detected objects\n",
    "    cv2.imshow(\"Real-Time Object Detection\", output_frame)\n",
    "\n",
    "    # Break on pressing 'q'\n",
    "    if cv2.waitKey(1) & 0xFF == ord('q'):\n",
    "        break\n",
    "\n",
    "# Release resources\n",
    "cap.release()\n",
    "cv2.destroyAllWindows()\n"
   ]
  }
 ],
 "metadata": {
  "kernelspec": {
   "display_name": "Python 3",
   "language": "python",
   "name": "python3"
  },
  "language_info": {
   "codemirror_mode": {
    "name": "ipython",
    "version": 3
   },
   "file_extension": ".py",
   "mimetype": "text/x-python",
   "name": "python",
   "nbconvert_exporter": "python",
   "pygments_lexer": "ipython3",
   "version": "3.12.3"
  }
 },
 "nbformat": 4,
 "nbformat_minor": 2
}
