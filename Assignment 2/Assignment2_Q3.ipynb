{
 "cells": [
  {
   "cell_type": "code",
   "execution_count": 3,
   "metadata": {},
   "outputs": [],
   "source": [
    "import cv2\n",
    "import numpy as np\n",
    "from PIL import Image"
   ]
  },
  {
   "cell_type": "code",
   "execution_count": 4,
   "metadata": {},
   "outputs": [],
   "source": [
    "def classify_flag(flag_image):\n",
    "    image = Image.fromarray(flag_image)\n",
    "    image = image.convert(\"RGB\")\n",
    "\n",
    "    # Resize the image for uniformity\n",
    "    image = image.resize((100, 100))\n",
    "\n",
    "    # Split the image into top and bottom halves\n",
    "    top_half = image.crop((0, 0, 100, 50))\n",
    "    bottom_half = image.crop((0, 50, 100, 100))\n",
    "\n",
    "    # Calculate the average RGB of the top half\n",
    "    def average_rgb(img):\n",
    "        pixels = np.array(img)\n",
    "        r, g, b = pixels[:, :, 0], pixels[:, :, 1], pixels[:, :, 2]\n",
    "        return (r.mean(), g.mean(), b.mean())\n",
    "\n",
    "    top_avg = average_rgb(top_half)\n",
    "    bottom_avg = average_rgb(bottom_half)\n",
    "\n",
    "    # Classify the flag based on the color of the top and bottom parts\n",
    "    if top_avg[0] > 150 and top_avg[1] < 100 and top_avg[2] < 100:\n",
    "        print(\"Indonesia Flag\")\n",
    "    else:\n",
    "        print(\"Poland Flag\")"
   ]
  },
  {
   "cell_type": "code",
   "execution_count": 5,
   "metadata": {},
   "outputs": [],
   "source": [
    "def detect_flag(image_path):\n",
    "    image = cv2.imread(image_path)\n",
    "    gray = cv2.cvtColor(image, cv2.COLOR_BGR2GRAY)\n",
    "    edges = cv2.Canny(gray, 50, 150)\n",
    "    contours, _ = cv2.findContours(edges, cv2.RETR_TREE, cv2.CHAIN_APPROX_SIMPLE)\n",
    "\n",
    "    for contour in contours:\n",
    "        epsilon = 0.01 * cv2.arcLength(contour, True)\n",
    "        approx = cv2.approxPolyDP(contour, epsilon, True)\n",
    "        if len(approx) == 4:\n",
    "            x, y, w, h = cv2.boundingRect(approx)\n",
    "            aspect_ratio = float(w) / h\n",
    "            if 1.5 < aspect_ratio < 3:\n",
    "                cv2.rectangle(image, (x, y), (x + w, y + h), (0, 255, 0), 2)\n",
    "                flag_region = image[y:y + h, x:x + w]\n",
    "                cv2.imshow('Detected Flag', image)\n",
    "                classify_flag(flag_region)\n",
    "                cv2.waitKey(0)\n",
    "                cv2.destroyAllWindows()\n",
    "                return\n",
    "    print(\"No flag detected in the image.\")\n",
    "    cv2.destroyAllWindows()"
   ]
  },
  {
   "cell_type": "code",
   "execution_count": null,
   "metadata": {},
   "outputs": [],
   "source": [
    "image_path = \"image_path\"  \n",
    "detect_flag(image_path)"
   ]
  }
 ],
 "metadata": {
  "kernelspec": {
   "display_name": "Python 3",
   "language": "python",
   "name": "python3"
  },
  "language_info": {
   "codemirror_mode": {
    "name": "ipython",
    "version": 3
   },
   "file_extension": ".py",
   "mimetype": "text/x-python",
   "name": "python",
   "nbconvert_exporter": "python",
   "pygments_lexer": "ipython3",
   "version": "3.12.3"
  }
 },
 "nbformat": 4,
 "nbformat_minor": 2
}
